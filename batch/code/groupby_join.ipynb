{
 "cells": [
  {
   "cell_type": "code",
   "execution_count": 1,
   "id": "e32b35e1-a369-4ab9-9bf5-4d7e70ce03a3",
   "metadata": {},
   "outputs": [],
   "source": [
    "import pyspark\n",
    "from pyspark.sql import SparkSession"
   ]
  },
  {
   "cell_type": "code",
   "execution_count": 2,
   "id": "022985d1-1e03-4850-9291-df160fbee03b",
   "metadata": {},
   "outputs": [],
   "source": [
    "spark = SparkSession.builder \\\n",
    "    .master(\"local[*]\") \\\n",
    "    .appName('test') \\\n",
    "    .getOrCreate()"
   ]
  },
  {
   "cell_type": "markdown",
   "id": "0ba6495d-431b-46a4-9f4d-8559db9228bd",
   "metadata": {},
   "source": [
    "### GROUP BY"
   ]
  },
  {
   "cell_type": "code",
   "execution_count": 3,
   "id": "2b2cc632-3c32-4bcf-96da-6f5646c270f0",
   "metadata": {},
   "outputs": [],
   "source": [
    "df_green = spark.read.parquet('data/pq/green/*/*')"
   ]
  },
  {
   "cell_type": "code",
   "execution_count": 4,
   "id": "b291ee01-efee-4da3-b323-1459970f4200",
   "metadata": {},
   "outputs": [],
   "source": [
    "df_green.createOrReplaceTempView('green')"
   ]
  },
  {
   "cell_type": "code",
   "execution_count": 9,
   "id": "0fabc10c-b421-4ead-b629-7e0677ce132d",
   "metadata": {},
   "outputs": [],
   "source": [
    "df_green_revenue = spark.sql(\"\"\"\n",
    "SELECT \n",
    "    date_trunc('hour', lpep_pickup_datetime) AS hour,\n",
    "    PULocationID AS zone,\n",
    "\n",
    "    SUM(total_amount) AS amount,\n",
    "    COUNT(1) as number_records\n",
    "FROM\n",
    "    green\n",
    "WHERE\n",
    "    lpep_pickup_datetime >= '2020-01-01 00:00:00'\n",
    "GROUP BY\n",
    "    1,2\n",
    "\"\"\")"
   ]
  },
  {
   "cell_type": "code",
   "execution_count": 10,
   "id": "c2751802-b5fd-43a7-aaaf-51d189946cd6",
   "metadata": {},
   "outputs": [
    {
     "name": "stdout",
     "output_type": "stream",
     "text": [
      "+-------------------+----+------------------+--------------+\n",
      "|               hour|zone|            amount|number_records|\n",
      "+-------------------+----+------------------+--------------+\n",
      "|2020-01-17 11:00:00|  41| 513.6600000000003|            46|\n",
      "|2020-01-30 13:00:00|  75| 1330.859999999999|            76|\n",
      "|2020-01-27 20:00:00| 244|398.00000000000006|            16|\n",
      "|2020-01-16 10:00:00|  74|1021.2199999999987|            80|\n",
      "|2020-01-24 17:00:00| 260| 308.0600000000001|            27|\n",
      "|2020-01-03 01:00:00|  80|             80.61|             6|\n",
      "|2020-01-08 14:00:00|  33| 687.7900000000001|            34|\n",
      "|2020-01-07 19:00:00|  66|324.78000000000003|            19|\n",
      "|2020-01-14 12:00:00|  21|             90.22|             2|\n",
      "|2020-01-17 17:00:00|  41| 845.2499999999994|            66|\n",
      "|2020-01-02 09:00:00|   7|367.50000000000017|            30|\n",
      "|2020-01-15 20:00:00| 145|             39.41|             2|\n",
      "|2020-01-06 19:00:00|  92| 293.2000000000001|            18|\n",
      "|2020-01-24 11:00:00| 129| 360.1600000000001|            20|\n",
      "|2020-01-10 15:00:00| 166| 697.8199999999996|            55|\n",
      "|2020-01-11 15:00:00| 241|            101.31|             4|\n",
      "|2020-01-14 01:00:00|  92|100.19999999999999|             9|\n",
      "|2020-01-02 12:00:00|   7| 352.7600000000001|            23|\n",
      "|2020-01-10 11:00:00|  95|488.52000000000015|            30|\n",
      "|2020-01-30 04:00:00| 117|             54.59|             3|\n",
      "+-------------------+----+------------------+--------------+\n",
      "only showing top 20 rows\n",
      "\n"
     ]
    }
   ],
   "source": [
    "df_green_revenue.show()"
   ]
  },
  {
   "cell_type": "code",
   "execution_count": 17,
   "id": "d0a2d732-0e44-49a6-b518-968df8160ee8",
   "metadata": {},
   "outputs": [],
   "source": [
    "df_green_revenue \\\n",
    "    .repartition(20) \\\n",
    "    .write.parquet('data/report/revenue/green', mode='overwrite')"
   ]
  },
  {
   "cell_type": "code",
   "execution_count": 12,
   "id": "a47e26fc-7002-41eb-a965-75a6bb227e53",
   "metadata": {},
   "outputs": [],
   "source": [
    "df_yellow = spark.read.parquet('data/pq/yellow/*/*')"
   ]
  },
  {
   "cell_type": "code",
   "execution_count": 13,
   "id": "c3e363cd-9302-4f89-9907-e3692a32f217",
   "metadata": {},
   "outputs": [],
   "source": [
    "df_yellow.createOrReplaceTempView('yellow')"
   ]
  },
  {
   "cell_type": "code",
   "execution_count": 14,
   "id": "6e6abcd0-ce0a-4bdf-918a-b6cde6b0ff7a",
   "metadata": {},
   "outputs": [],
   "source": [
    "df_yellow_revenue = spark.sql(\"\"\"\n",
    "SELECT \n",
    "    date_trunc('hour', tpep_pickup_datetime) AS hour,\n",
    "    PULocationID AS zone,\n",
    "\n",
    "    SUM(total_amount) AS amount,\n",
    "    COUNT(1) as number_records\n",
    "FROM\n",
    "    yellow\n",
    "WHERE\n",
    "    tpep_pickup_datetime >= '2020-01-01 00:00:00'\n",
    "GROUP BY\n",
    "    1,2\n",
    "\"\"\")"
   ]
  },
  {
   "cell_type": "code",
   "execution_count": 16,
   "id": "12212cc1-3717-4c53-bef8-47ec35d59f45",
   "metadata": {},
   "outputs": [
    {
     "name": "stdout",
     "output_type": "stream",
     "text": [
      "+-------------------+----+------------------+--------------+\n",
      "|               hour|zone|            amount|number_records|\n",
      "+-------------------+----+------------------+--------------+\n",
      "|2020-01-01 08:00:00| 162| 767.8100000000003|            46|\n",
      "|2020-01-04 18:00:00| 140|2618.9099999999985|           169|\n",
      "|2020-01-27 16:00:00|  88|1478.9999999999995|            53|\n",
      "|2020-01-05 02:00:00| 114| 5647.420000000002|           329|\n",
      "|2020-01-19 23:00:00|  90|2217.8799999999987|           150|\n",
      "|2020-01-23 17:00:00| 140| 6545.520000000008|           364|\n",
      "|2020-01-09 11:00:00| 107|3677.2599999999966|           240|\n",
      "|2020-01-26 20:00:00| 239|2532.9399999999987|           178|\n",
      "|2020-01-03 23:00:00| 132| 24519.23999999997|           448|\n",
      "|2020-01-26 20:00:00| 236|3540.5199999999977|           242|\n",
      "|2020-01-24 19:00:00| 186|11532.320000000029|           625|\n",
      "|2020-01-24 03:00:00| 264|             249.6|            11|\n",
      "|2020-01-31 15:00:00| 143|2763.2299999999977|           182|\n",
      "|2020-01-23 21:00:00| 142|12377.530000000039|           753|\n",
      "|2020-01-23 07:00:00| 140| 4083.159999999997|           250|\n",
      "|2020-01-22 08:00:00| 141| 7261.750000000013|           488|\n",
      "|2020-01-04 09:00:00|  48| 3060.649999999997|           209|\n",
      "|2020-01-27 22:00:00| 162|  7572.97000000001|           426|\n",
      "|2020-01-04 19:00:00| 249| 4428.489999999997|           281|\n",
      "|2020-01-12 16:00:00| 107|3240.6299999999974|           191|\n",
      "+-------------------+----+------------------+--------------+\n",
      "only showing top 20 rows\n",
      "\n"
     ]
    }
   ],
   "source": [
    "df_yellow_revenue.show()"
   ]
  },
  {
   "cell_type": "code",
   "execution_count": 18,
   "id": "8d2c7e95-d9ac-43a1-a015-0f044c1242df",
   "metadata": {},
   "outputs": [],
   "source": [
    "df_yellow_revenue \\\n",
    "    .repartition(20) \\\n",
    "    .write.parquet('data/report/revenue/yellow', mode='overwrite')"
   ]
  },
  {
   "cell_type": "markdown",
   "id": "87421f08-6de6-4f11-a264-333f51caa463",
   "metadata": {},
   "source": [
    "### JOIN"
   ]
  },
  {
   "cell_type": "code",
   "execution_count": 19,
   "id": "aba68248-73fa-4dd6-b393-198603c64d28",
   "metadata": {},
   "outputs": [],
   "source": [
    "df_green_revenue = spark.read.parquet('data/report/revenue/green/')\n",
    "df_yellow_revenue = spark.read.parquet('data/report/revenue/yellow/')"
   ]
  },
  {
   "cell_type": "code",
   "execution_count": 20,
   "id": "13fa0b47-c99f-4be3-8c7a-468cc54b4a1b",
   "metadata": {},
   "outputs": [],
   "source": [
    "df_green_revenue_temp = df_green_revenue \\\n",
    "    .withColumnRenamed('amount', 'green_amount') \\\n",
    "    .withColumnRenamed('number_records', 'green_number_records') \n",
    "\n",
    "df_yellow_revenue_temp = df_yellow_revenue \\\n",
    "    .withColumnRenamed('amount', 'yellow_amount') \\\n",
    "    .withColumnRenamed('number_records', 'yellow_number_records') "
   ]
  },
  {
   "cell_type": "code",
   "execution_count": 22,
   "id": "b4c24196-3f28-4c98-a5e3-541d391102f9",
   "metadata": {},
   "outputs": [],
   "source": [
    "df_join = df_green_revenue_temp.join(df_yellow_revenue_temp, on=['hour', 'zone'], how='outer')"
   ]
  },
  {
   "cell_type": "code",
   "execution_count": 23,
   "id": "d6879663-6286-4e57-a1ae-d0b5f4f21252",
   "metadata": {},
   "outputs": [
    {
     "name": "stdout",
     "output_type": "stream",
     "text": [
      "+-------------------+----+-----------------+--------------------+------------------+---------------------+\n",
      "|               hour|zone|     green_amount|green_number_records|     yellow_amount|yellow_number_records|\n",
      "+-------------------+----+-----------------+--------------------+------------------+---------------------+\n",
      "|2020-01-01 00:00:00|   7|769.7299999999997|                  45| 455.1700000000001|                   38|\n",
      "|2020-01-01 00:00:00|  13|             NULL|                NULL|1214.8000000000002|                   56|\n",
      "|2020-01-01 00:00:00|  18|              7.8|                   1|               5.8|                    1|\n",
      "|2020-01-01 00:00:00|  32|68.94999999999999|                   2|              18.0|                    1|\n",
      "|2020-01-01 00:00:00|  34|             NULL|                NULL|              19.3|                    1|\n",
      "|2020-01-01 00:00:00|  83|94.09999999999998|                   7|               9.8|                    1|\n",
      "|2020-01-01 00:00:00|  90|             NULL|                NULL| 5010.450000000001|                  266|\n",
      "|2020-01-01 00:00:00|  94|64.24000000000001|                   3|              13.3|                    1|\n",
      "|2020-01-01 00:00:00| 114|             NULL|                NULL| 6256.430000000005|                  333|\n",
      "|2020-01-01 00:00:00| 126|             NULL|                NULL|             170.6|                    2|\n",
      "|2020-01-01 00:00:00| 134|            69.05|                   6|              NULL|                 NULL|\n",
      "|2020-01-01 00:00:00| 146|99.36999999999999|                   6|110.74000000000001|                    7|\n",
      "|2020-01-01 00:00:00| 161|             NULL|                NULL| 9410.210000000017|                  488|\n",
      "|2020-01-01 00:00:00| 170|             NULL|                NULL| 8266.010000000018|                  463|\n",
      "|2020-01-01 00:00:00| 192|             12.3|                   1|              NULL|                 NULL|\n",
      "|2020-01-01 00:00:00| 231|             NULL|                NULL|           4822.66|                  245|\n",
      "|2020-01-01 00:00:00| 262|             NULL|                NULL|2239.5199999999986|                  149|\n",
      "|2020-01-01 01:00:00|  29|            32.04|                   2|              27.0|                    1|\n",
      "|2020-01-01 01:00:00|  35|           239.37|                   8|              99.4|                    2|\n",
      "|2020-01-01 01:00:00|  37|            88.16|                   4|            736.46|                   24|\n",
      "+-------------------+----+-----------------+--------------------+------------------+---------------------+\n",
      "only showing top 20 rows\n",
      "\n"
     ]
    }
   ],
   "source": [
    "df_join.show()"
   ]
  },
  {
   "cell_type": "code",
   "execution_count": 24,
   "id": "05720d9d-6061-47b2-b4a1-c3b84704faa2",
   "metadata": {},
   "outputs": [],
   "source": [
    "df_join.write.parquet('data/report/revenue/total', mode='overwrite')"
   ]
  },
  {
   "cell_type": "code",
   "execution_count": 27,
   "id": "3868f44d-3264-4a9c-85e9-327c49433e74",
   "metadata": {},
   "outputs": [
    {
     "data": {
      "text/plain": [
       "['hour',\n",
       " 'zone',\n",
       " 'green_amount',\n",
       " 'green_number_records',\n",
       " 'yellow_amount',\n",
       " 'yellow_number_records']"
      ]
     },
     "execution_count": 27,
     "metadata": {},
     "output_type": "execute_result"
    }
   ],
   "source": [
    "df_join.columns"
   ]
  },
  {
   "cell_type": "code",
   "execution_count": 29,
   "id": "953437e1-2923-4d09-990e-ac871b62650d",
   "metadata": {},
   "outputs": [],
   "source": [
    "df_zones = spark.read.parquet('zones/')"
   ]
  },
  {
   "cell_type": "code",
   "execution_count": 30,
   "id": "9664f96e-ba57-41d9-908a-6db2446ef720",
   "metadata": {},
   "outputs": [],
   "source": [
    "df_result = df_join.join(df_zones, df_join.zone == df_zones.LocationID)"
   ]
  },
  {
   "cell_type": "code",
   "execution_count": 34,
   "id": "400924e4-e2e3-4a42-bdc8-52b2262d9269",
   "metadata": {},
   "outputs": [],
   "source": [
    "df_result.drop('LocationID', 'zone').write.parquet('tmp/revenue-zones')"
   ]
  }
 ],
 "metadata": {
  "kernelspec": {
   "display_name": "Python 3 (ipykernel)",
   "language": "python",
   "name": "python3"
  },
  "language_info": {
   "codemirror_mode": {
    "name": "ipython",
    "version": 3
   },
   "file_extension": ".py",
   "mimetype": "text/x-python",
   "name": "python",
   "nbconvert_exporter": "python",
   "pygments_lexer": "ipython3",
   "version": "3.11.1"
  },
  "widgets": {
   "application/vnd.jupyter.widget-state+json": {
    "state": {},
    "version_major": 2,
    "version_minor": 0
   }
  }
 },
 "nbformat": 4,
 "nbformat_minor": 5
}
